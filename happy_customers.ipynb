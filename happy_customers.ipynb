{
 "cells": [
  {
   "cell_type": "markdown",
   "source": [
    "# Importing Libraries"
   ],
   "metadata": {
    "collapsed": false
   }
  },
  {
   "cell_type": "code",
   "execution_count": 1,
   "metadata": {
    "collapsed": true,
    "ExecuteTime": {
     "end_time": "2023-10-18T20:38:50.306641800Z",
     "start_time": "2023-10-18T20:38:47.023221700Z"
    }
   },
   "outputs": [],
   "source": [
    "import pandas as pd\n",
    "import numpy as np\n",
    "from sklearn.model_selection import train_test_split\n",
    "from sklearn.preprocessing import StandardScaler, RobustScaler\n",
    "from keras.models import Sequential\n",
    "from keras.layers import Dense\n",
    "import seaborn as sns\n",
    "import matplotlib.pyplot as plt"
   ]
  },
  {
   "cell_type": "markdown",
   "source": [
    "# Dataset Overview\n",
    "\n",
    "**Data Description:**\n",
    "\n",
    "Y = target attribute (Y) with values indicating 0 (unhappy) and 1 (happy) customers\n",
    "X1 = my order was delivered on time\n",
    "X2 = contents of my order was as I expected\n",
    "X3 = I ordered everything I wanted to order\n",
    "X4 = I paid a good price for my order\n",
    "X5 = I am satisfied with my courier\n",
    "X6 = the app makes ordering easy for me\n",
    "\n",
    "Attributes X1 to X6 indicate the responses for each question and have values from 1 to 5 where the smaller number indicates less and the higher number indicates more towards the answer."
   ],
   "metadata": {
    "collapsed": false
   }
  },
  {
   "cell_type": "code",
   "execution_count": 2,
   "outputs": [
    {
     "name": "stdout",
     "output_type": "stream",
     "text": [
      "Basic Information\n",
      "<class 'pandas.core.frame.DataFrame'>\n",
      "RangeIndex: 126 entries, 0 to 125\n",
      "Data columns (total 7 columns):\n",
      " #   Column  Non-Null Count  Dtype\n",
      "---  ------  --------------  -----\n",
      " 0   Y       126 non-null    int64\n",
      " 1   X1      126 non-null    int64\n",
      " 2   X2      126 non-null    int64\n",
      " 3   X3      126 non-null    int64\n",
      " 4   X4      126 non-null    int64\n",
      " 5   X5      126 non-null    int64\n",
      " 6   X6      126 non-null    int64\n",
      "dtypes: int64(7)\n",
      "memory usage: 7.0 KB\n",
      "None\n"
     ]
    }
   ],
   "source": [
    "# Load the dataset\n",
    "df = pd.read_csv(\"ACME-HappinessSurvey2020.csv\")\n",
    "\n",
    "# Display basic info like number of rows and columns, column names, and data types\n",
    "print(\"Basic Information\")\n",
    "print(df.info())"
   ],
   "metadata": {
    "collapsed": false,
    "ExecuteTime": {
     "end_time": "2023-10-18T20:38:50.323596400Z",
     "start_time": "2023-10-18T20:38:50.309633600Z"
    }
   }
  },
  {
   "cell_type": "code",
   "execution_count": 3,
   "outputs": [
    {
     "name": "stdout",
     "output_type": "stream",
     "text": [
      "\n",
      "First Few Rows of the Data\n",
      "   Y  X1  X2  X3  X4  X5  X6\n",
      "0  0   3   3   3   4   2   4\n",
      "1  0   3   2   3   5   4   3\n",
      "2  1   5   3   3   3   3   5\n",
      "3  0   5   4   3   3   3   5\n",
      "4  0   5   4   3   3   3   5\n"
     ]
    }
   ],
   "source": [
    "# Inspect the first few rows of the data\n",
    "print(\"\\nFirst Few Rows of the Data\")\n",
    "print(df.head())"
   ],
   "metadata": {
    "collapsed": false,
    "ExecuteTime": {
     "end_time": "2023-10-18T20:38:50.383035500Z",
     "start_time": "2023-10-18T20:38:50.324605600Z"
    }
   }
  },
  {
   "cell_type": "code",
   "execution_count": 4,
   "outputs": [
    {
     "name": "stdout",
     "output_type": "stream",
     "text": [
      "\n",
      "Summary Statistics\n",
      "    count      mean       std  min  25%  50%  75%  max\n",
      "Y   126.0  0.547619  0.499714  0.0  0.0  1.0  1.0  1.0\n",
      "X1  126.0  4.333333  0.800000  1.0  4.0  5.0  5.0  5.0\n",
      "X2  126.0  2.531746  1.114892  1.0  2.0  3.0  3.0  5.0\n",
      "X3  126.0  3.309524  1.023440  1.0  3.0  3.0  4.0  5.0\n",
      "X4  126.0  3.746032  0.875776  1.0  3.0  4.0  4.0  5.0\n",
      "X5  126.0  3.650794  1.147641  1.0  3.0  4.0  4.0  5.0\n",
      "X6  126.0  4.253968  0.809311  1.0  4.0  4.0  5.0  5.0\n"
     ]
    }
   ],
   "source": [
    "# Get a summary of statistics such as mean, median, min, max etc.\n",
    "print(\"\\nSummary Statistics\")\n",
    "print(df.describe().T)"
   ],
   "metadata": {
    "collapsed": false,
    "ExecuteTime": {
     "end_time": "2023-10-18T20:38:50.397997Z",
     "start_time": "2023-10-18T20:38:50.339555300Z"
    }
   }
  },
  {
   "cell_type": "code",
   "execution_count": 5,
   "outputs": [
    {
     "name": "stdout",
     "output_type": "stream",
     "text": [
      "\n",
      "Missing Values\n",
      "Y     0\n",
      "X1    0\n",
      "X2    0\n",
      "X3    0\n",
      "X4    0\n",
      "X5    0\n",
      "X6    0\n",
      "dtype: int64\n"
     ]
    }
   ],
   "source": [
    "# Check for any missing or null values in the dataset\n",
    "print(\"\\nMissing Values\")\n",
    "print(df.isnull().sum().T)"
   ],
   "metadata": {
    "collapsed": false,
    "ExecuteTime": {
     "end_time": "2023-10-18T20:38:50.397997Z",
     "start_time": "2023-10-18T20:38:50.369988500Z"
    }
   }
  },
  {
   "cell_type": "markdown",
   "source": [
    "# Relationship Analysis"
   ],
   "metadata": {
    "collapsed": false
   }
  },
  {
   "cell_type": "code",
   "execution_count": 6,
   "outputs": [
    {
     "name": "stdout",
     "output_type": "stream",
     "text": [
      "           Y        X1        X2        X3        X4        X5        X6\n",
      "Y   1.000000  0.280160 -0.024274  0.150838  0.064415  0.224522  0.167669\n",
      "X1  0.280160  1.000000  0.059797  0.283358  0.087541  0.432772  0.411873\n",
      "X2 -0.024274  0.059797  1.000000  0.184129  0.114838  0.039996 -0.062205\n",
      "X3  0.150838  0.283358  0.184129  1.000000  0.302618  0.358397  0.203750\n",
      "X4  0.064415  0.087541  0.114838  0.302618  1.000000  0.293115  0.215888\n",
      "X5  0.224522  0.432772  0.039996  0.358397  0.293115  1.000000  0.320195\n",
      "X6  0.167669  0.411873 -0.062205  0.203750  0.215888  0.320195  1.000000\n"
     ]
    }
   ],
   "source": [
    "# Checking the correlations among variables\n",
    "print(df.corr().T)"
   ],
   "metadata": {
    "collapsed": false,
    "ExecuteTime": {
     "end_time": "2023-10-18T20:38:50.402936700Z",
     "start_time": "2023-10-18T20:38:50.388934Z"
    }
   }
  },
  {
   "cell_type": "code",
   "execution_count": 7,
   "outputs": [
    {
     "data": {
      "text/plain": "<Axes: >"
     },
     "execution_count": 7,
     "metadata": {},
     "output_type": "execute_result"
    },
    {
     "data": {
      "text/plain": "<Figure size 640x480 with 2 Axes>",
      "image/png": "[encoded data removed]"
     },
     "metadata": {},
     "output_type": "display_data"
    }
   ],
   "source": [
    "# Using heatmap to visualise the above correlations in an intuitive manner\n",
    "sns.heatmap(df.corr(), annot=True)"
   ],
   "metadata": {
    "collapsed": false,
    "ExecuteTime": {
     "end_time": "2023-10-18T20:38:50.742094Z",
     "start_time": "2023-10-18T20:38:50.400922400Z"
    }
   }
  },
  {
   "cell_type": "markdown",
   "source": [
    "From the heatmap above, we can see that factor X1 (\"my order was delivered on time\") is the most important factor in contributing to a customer's overall happiness. It is also evident that factors X2 and X4 do not influence the overall satisfaction score as significantly as the other factors do. Thus, we can exclude them from the future questionnaires."
   ],
   "metadata": {
    "collapsed": false
   }
  },
  {
   "cell_type": "markdown",
   "source": [
    "# Model Training"
   ],
   "metadata": {
    "collapsed": false
   }
  },
  {
   "cell_type": "code",
   "execution_count": 8,
   "outputs": [],
   "source": [
    "# Preprocess the data\n",
    "X = df.iloc[:, 1:]\n",
    "y = df['Y']"
   ],
   "metadata": {
    "collapsed": false,
    "ExecuteTime": {
     "end_time": "2023-10-18T20:38:50.803066Z",
     "start_time": "2023-10-18T20:38:50.744088800Z"
    }
   }
  },
  {
   "cell_type": "code",
   "execution_count": 9,
   "outputs": [],
   "source": [
    "# Encode the target variable (0 for unhappy, 1 for happy)\n",
    "y = np.where(y == 0, 0, 1)"
   ],
   "metadata": {
    "collapsed": false,
    "ExecuteTime": {
     "end_time": "2023-10-18T20:38:50.803066Z",
     "start_time": "2023-10-18T20:38:50.760099400Z"
    }
   }
  },
  {
   "cell_type": "code",
   "execution_count": 10,
   "outputs": [],
   "source": [
    "# Standardise feature values\n",
    "scaler = StandardScaler()\n",
    "X = scaler.fit_transform(X)"
   ],
   "metadata": {
    "collapsed": false,
    "ExecuteTime": {
     "end_time": "2023-10-18T20:38:50.803066Z",
     "start_time": "2023-10-18T20:38:50.776057400Z"
    }
   }
  },
  {
   "cell_type": "code",
   "execution_count": 11,
   "outputs": [],
   "source": [
    "# Split the data into training and validation sets\n",
    "X_train, X_val, y_train, y_val = train_test_split(X, y, test_size=0.1, random_state=42, stratify=y)"
   ],
   "metadata": {
    "collapsed": false,
    "ExecuteTime": {
     "end_time": "2023-10-18T20:38:50.812969Z",
     "start_time": "2023-10-18T20:38:50.794008700Z"
    }
   }
  },
  {
   "cell_type": "code",
   "execution_count": 12,
   "outputs": [],
   "source": [
    "# Build the neural network model\n",
    "model = Sequential()\n",
    "model.add(Dense(64, input_dim=6, activation='sigmoid'))\n",
    "model.add(Dense(16, activation='sigmoid'))\n",
    "model.add(Dense(1, activation='sigmoid'))"
   ],
   "metadata": {
    "collapsed": false,
    "ExecuteTime": {
     "end_time": "2023-10-18T20:38:50.882970300Z",
     "start_time": "2023-10-18T20:38:50.810974300Z"
    }
   }
  },
  {
   "cell_type": "code",
   "execution_count": 13,
   "outputs": [],
   "source": [
    "# Compile the model\n",
    "model.compile(loss='binary_crossentropy', optimizer='adam', metrics=['accuracy'])"
   ],
   "metadata": {
    "collapsed": false,
    "ExecuteTime": {
     "end_time": "2023-10-18T20:38:50.908901Z",
     "start_time": "2023-10-18T20:38:50.883967800Z"
    }
   }
  },
  {
   "cell_type": "code",
   "execution_count": 14,
   "outputs": [
    {
     "name": "stdout",
     "output_type": "stream",
     "text": [
      "Epoch 1/50\n",
      "4/4 [==============================] - 1s 51ms/step - loss: 0.6933 - accuracy: 0.5487 - val_loss: 0.6942 - val_accuracy: 0.5385\n",
      "Epoch 2/50\n",
      "4/4 [==============================] - 0s 9ms/step - loss: 0.6892 - accuracy: 0.5487 - val_loss: 0.6895 - val_accuracy: 0.5385\n",
      "Epoch 3/50\n",
      "4/4 [==============================] - 0s 10ms/step - loss: 0.6884 - accuracy: 0.5487 - val_loss: 0.6862 - val_accuracy: 0.5385\n",
      "Epoch 4/50\n",
      "4/4 [==============================] - 0s 9ms/step - loss: 0.6861 - accuracy: 0.5487 - val_loss: 0.6832 - val_accuracy: 0.5385\n",
      "Epoch 5/50\n",
      "4/4 [==============================] - 0s 9ms/step - loss: 0.6848 - accuracy: 0.5487 - val_loss: 0.6804 - val_accuracy: 0.5385\n",
      "Epoch 6/50\n",
      "4/4 [==============================] - 0s 9ms/step - loss: 0.6834 - accuracy: 0.5487 - val_loss: 0.6776 - val_accuracy: 0.5385\n",
      "Epoch 7/50\n",
      "4/4 [==============================] - 0s 9ms/step - loss: 0.6816 - accuracy: 0.5575 - val_loss: 0.6751 - val_accuracy: 0.5385\n",
      "Epoch 8/50\n",
      "4/4 [==============================] - 0s 10ms/step - loss: 0.6819 - accuracy: 0.5575 - val_loss: 0.6737 - val_accuracy: 0.5385\n",
      "Epoch 9/50\n",
      "4/4 [==============================] - 0s 9ms/step - loss: 0.6798 - accuracy: 0.5575 - val_loss: 0.6714 - val_accuracy: 0.5385\n",
      "Epoch 10/50\n",
      "4/4 [==============================] - 0s 10ms/step - loss: 0.6787 - accuracy: 0.5575 - val_loss: 0.6693 - val_accuracy: 0.5385\n",
      "Epoch 11/50\n",
      "4/4 [==============================] - 0s 9ms/step - loss: 0.6785 - accuracy: 0.5575 - val_loss: 0.6674 - val_accuracy: 0.5385\n",
      "Epoch 12/50\n",
      "4/4 [==============================] - 0s 9ms/step - loss: 0.6764 - accuracy: 0.5575 - val_loss: 0.6642 - val_accuracy: 0.5385\n",
      "Epoch 13/50\n",
      "4/4 [==============================] - 0s 9ms/step - loss: 0.6754 - accuracy: 0.5752 - val_loss: 0.6606 - val_accuracy: 0.6154\n",
      "Epoch 14/50\n",
      "4/4 [==============================] - 0s 9ms/step - loss: 0.6749 - accuracy: 0.5841 - val_loss: 0.6576 - val_accuracy: 0.6154\n",
      "Epoch 15/50\n",
      "4/4 [==============================] - 0s 9ms/step - loss: 0.6734 - accuracy: 0.5752 - val_loss: 0.6551 - val_accuracy: 0.6154\n",
      "Epoch 16/50\n",
      "4/4 [==============================] - 0s 9ms/step - loss: 0.6725 - accuracy: 0.6018 - val_loss: 0.6529 - val_accuracy: 0.6923\n",
      "Epoch 17/50\n",
      "4/4 [==============================] - 0s 9ms/step - loss: 0.6715 - accuracy: 0.6018 - val_loss: 0.6506 - val_accuracy: 0.6923\n",
      "Epoch 18/50\n",
      "4/4 [==============================] - 0s 9ms/step - loss: 0.6702 - accuracy: 0.6018 - val_loss: 0.6487 - val_accuracy: 0.6154\n",
      "Epoch 19/50\n",
      "4/4 [==============================] - 0s 9ms/step - loss: 0.6693 - accuracy: 0.5841 - val_loss: 0.6473 - val_accuracy: 0.6154\n",
      "Epoch 20/50\n",
      "4/4 [==============================] - 0s 9ms/step - loss: 0.6688 - accuracy: 0.5752 - val_loss: 0.6452 - val_accuracy: 0.6154\n",
      "Epoch 21/50\n",
      "4/4 [==============================] - 0s 9ms/step - loss: 0.6679 - accuracy: 0.5664 - val_loss: 0.6428 - val_accuracy: 0.6154\n",
      "Epoch 22/50\n",
      "4/4 [==============================] - 0s 9ms/step - loss: 0.6671 - accuracy: 0.5841 - val_loss: 0.6407 - val_accuracy: 0.6154\n",
      "Epoch 23/50\n",
      "4/4 [==============================] - 0s 9ms/step - loss: 0.6661 - accuracy: 0.5929 - val_loss: 0.6375 - val_accuracy: 0.6923\n",
      "Epoch 24/50\n",
      "4/4 [==============================] - 0s 10ms/step - loss: 0.6657 - accuracy: 0.5841 - val_loss: 0.6347 - val_accuracy: 0.7692\n",
      "Epoch 25/50\n",
      "4/4 [==============================] - 0s 10ms/step - loss: 0.6647 - accuracy: 0.5841 - val_loss: 0.6327 - val_accuracy: 0.7692\n",
      "Epoch 26/50\n",
      "4/4 [==============================] - 0s 10ms/step - loss: 0.6645 - accuracy: 0.5752 - val_loss: 0.6307 - val_accuracy: 0.7692\n",
      "Epoch 27/50\n",
      "4/4 [==============================] - 0s 9ms/step - loss: 0.6635 - accuracy: 0.5752 - val_loss: 0.6290 - val_accuracy: 0.7692\n",
      "Epoch 28/50\n",
      "4/4 [==============================] - 0s 9ms/step - loss: 0.6629 - accuracy: 0.5841 - val_loss: 0.6276 - val_accuracy: 0.7692\n",
      "Epoch 29/50\n",
      "4/4 [==============================] - 0s 10ms/step - loss: 0.6618 - accuracy: 0.5752 - val_loss: 0.6273 - val_accuracy: 0.6923\n",
      "Epoch 30/50\n",
      "4/4 [==============================] - 0s 10ms/step - loss: 0.6617 - accuracy: 0.5929 - val_loss: 0.6262 - val_accuracy: 0.6923\n",
      "Epoch 31/50\n",
      "4/4 [==============================] - 0s 10ms/step - loss: 0.6613 - accuracy: 0.5841 - val_loss: 0.6245 - val_accuracy: 0.6923\n",
      "Epoch 32/50\n",
      "4/4 [==============================] - 0s 10ms/step - loss: 0.6603 - accuracy: 0.5841 - val_loss: 0.6226 - val_accuracy: 0.7692\n",
      "Epoch 33/50\n",
      "4/4 [==============================] - 0s 11ms/step - loss: 0.6600 - accuracy: 0.5752 - val_loss: 0.6203 - val_accuracy: 0.7692\n",
      "Epoch 34/50\n",
      "4/4 [==============================] - 0s 10ms/step - loss: 0.6592 - accuracy: 0.5752 - val_loss: 0.6180 - val_accuracy: 0.7692\n",
      "Epoch 35/50\n",
      "4/4 [==============================] - 0s 11ms/step - loss: 0.6588 - accuracy: 0.5664 - val_loss: 0.6161 - val_accuracy: 0.7692\n",
      "Epoch 36/50\n",
      "4/4 [==============================] - 0s 9ms/step - loss: 0.6585 - accuracy: 0.5575 - val_loss: 0.6146 - val_accuracy: 0.7692\n",
      "Epoch 37/50\n",
      "4/4 [==============================] - 0s 9ms/step - loss: 0.6582 - accuracy: 0.5664 - val_loss: 0.6134 - val_accuracy: 0.7692\n",
      "Epoch 38/50\n",
      "4/4 [==============================] - 0s 10ms/step - loss: 0.6575 - accuracy: 0.5752 - val_loss: 0.6134 - val_accuracy: 0.7692\n",
      "Epoch 39/50\n",
      "4/4 [==============================] - 0s 10ms/step - loss: 0.6570 - accuracy: 0.5752 - val_loss: 0.6128 - val_accuracy: 0.7692\n",
      "Epoch 40/50\n",
      "4/4 [==============================] - 0s 11ms/step - loss: 0.6575 - accuracy: 0.5752 - val_loss: 0.6126 - val_accuracy: 0.7692\n",
      "Epoch 41/50\n",
      "4/4 [==============================] - 0s 9ms/step - loss: 0.6572 - accuracy: 0.5752 - val_loss: 0.6108 - val_accuracy: 0.7692\n",
      "Epoch 42/50\n",
      "4/4 [==============================] - 0s 9ms/step - loss: 0.6568 - accuracy: 0.5752 - val_loss: 0.6103 - val_accuracy: 0.7692\n",
      "Epoch 43/50\n",
      "4/4 [==============================] - 0s 10ms/step - loss: 0.6559 - accuracy: 0.5752 - val_loss: 0.6073 - val_accuracy: 0.7692\n",
      "Epoch 44/50\n",
      "4/4 [==============================] - 0s 10ms/step - loss: 0.6561 - accuracy: 0.5664 - val_loss: 0.6040 - val_accuracy: 0.6923\n",
      "Epoch 45/50\n",
      "4/4 [==============================] - 0s 9ms/step - loss: 0.6557 - accuracy: 0.5752 - val_loss: 0.6020 - val_accuracy: 0.6923\n",
      "Epoch 46/50\n",
      "4/4 [==============================] - 0s 10ms/step - loss: 0.6552 - accuracy: 0.5752 - val_loss: 0.6008 - val_accuracy: 0.6923\n",
      "Epoch 47/50\n",
      "4/4 [==============================] - 0s 9ms/step - loss: 0.6555 - accuracy: 0.5752 - val_loss: 0.6004 - val_accuracy: 0.6923\n",
      "Epoch 48/50\n",
      "4/4 [==============================] - 0s 9ms/step - loss: 0.6542 - accuracy: 0.5752 - val_loss: 0.5997 - val_accuracy: 0.7692\n",
      "Epoch 49/50\n",
      "4/4 [==============================] - 0s 9ms/step - loss: 0.6541 - accuracy: 0.5752 - val_loss: 0.5987 - val_accuracy: 0.7692\n",
      "Epoch 50/50\n",
      "4/4 [==============================] - 0s 9ms/step - loss: 0.6539 - accuracy: 0.5752 - val_loss: 0.5974 - val_accuracy: 0.7692\n"
     ]
    },
    {
     "data": {
      "text/plain": "<keras.src.callbacks.History at 0x150d12a9270>"
     },
     "execution_count": 14,
     "metadata": {},
     "output_type": "execute_result"
    }
   ],
   "source": [
    "# Train the model\n",
    "model.fit(X_train, y_train, epochs=50, batch_size=32, validation_data=(X_val, y_val))"
   ],
   "metadata": {
    "collapsed": false,
    "ExecuteTime": {
     "end_time": "2023-10-18T20:38:53.251049Z",
     "start_time": "2023-10-18T20:38:50.899926500Z"
    }
   }
  },
  {
   "cell_type": "code",
   "execution_count": 15,
   "outputs": [
    {
     "name": "stdout",
     "output_type": "stream",
     "text": [
      "1/1 [==============================] - 0s 21ms/step - loss: 0.5974 - accuracy: 0.7692\n",
      "Validation Loss: 0.5974, Validation Accuracy: 0.7692\n"
     ]
    }
   ],
   "source": [
    "# Evaluate the model on the validation set\n",
    "loss, accuracy = model.evaluate(X_val, y_val)\n",
    "print(f'Validation Loss: {loss:.4f}, Validation Accuracy: {accuracy:.4f}')"
   ],
   "metadata": {
    "collapsed": false,
    "ExecuteTime": {
     "end_time": "2023-10-18T20:38:53.311064400Z",
     "start_time": "2023-10-18T20:38:53.254041Z"
    }
   }
  },
  {
   "cell_type": "markdown",
   "source": [
    "# Model Explanation\n",
    "\n",
    "- **Architecture**\n",
    "    - The model is constructed using a sequential API, which allows layers to be added in a step-by-step manner.\n",
    "    - The model consists of three layers. The choice of layers and neurons is crucial as it defines the model's capacity to learn patterns from the data.\n",
    "\n",
    "- **How is the Model Built?**\n",
    "    - Our model is like a multi-layered filter. Information passes through multiple stages, getting refined at each level to make a final prediction.\n",
    "\n",
    "- **Understanding the Layers**\n",
    "    - **Input Layer:** This is where we input our information, such as various factors that might influence happiness.\n",
    "    - **Hidden Layer:** Think of this as a refining stage. The model takes the input, processes it, and starts identifying patterns or relationships.\n",
    "    - **Output Layer:** Based on the learned patterns, the model makes a final decision, predicting happiness as either likely or unlikely.\n",
    "\n",
    "- **Why these Components?**\n",
    "    - Every piece, from layers to evaluation, is tailored to ensure that the model learns effectively and makes accurate, useful predictions.\n",
    "    - The choices in building the model, such as the number of layers and how they are structured, are like the settings that we tune to get the best performance out of it.\n",
    "\n",
    "- **Performance Evaluation**\n",
    "    - As per the final validation accuracy on the test dataset, our model has an overall accuracy rate of 76.92%."
   ],
   "metadata": {
    "collapsed": false
   }
  }
 ],
 "metadata": {
  "kernelspec": {
   "display_name": "Python 3",
   "language": "python",
   "name": "python3"
  },
  "language_info": {
   "codemirror_mode": {
    "name": "ipython",
    "version": 2
   },
   "file_extension": ".py",
   "mimetype": "text/x-python",
   "name": "python",
   "nbconvert_exporter": "python",
   "pygments_lexer": "ipython2",
   "version": "2.7.6"
  }
 },
 "nbformat": 4,
 "nbformat_minor": 0
}
