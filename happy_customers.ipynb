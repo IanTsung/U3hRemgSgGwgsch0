{
 "cells": [
  {
   "cell_type": "code",
   "execution_count": 1,
   "metadata": {
    "collapsed": true,
    "ExecuteTime": {
     "end_time": "2023-10-16T03:47:16.743209400Z",
     "start_time": "2023-10-16T03:47:12.557370300Z"
    }
   },
   "outputs": [],
   "source": [
    "import pandas as pd\n",
    "import numpy as np\n",
    "from sklearn.model_selection import train_test_split\n",
    "from sklearn.preprocessing import StandardScaler\n",
    "from keras.models import Sequential\n",
    "from keras.layers import Dense"
   ]
  },
  {
   "cell_type": "code",
   "execution_count": 2,
   "outputs": [],
   "source": [
    "# Load the dataset\n",
    "df = pd.read_csv(\"ACME-HappinessSurvey2020.csv\")"
   ],
   "metadata": {
    "collapsed": false,
    "ExecuteTime": {
     "end_time": "2023-10-16T03:47:22.015511800Z",
     "start_time": "2023-10-16T03:47:22.003116500Z"
    }
   }
  },
  {
   "cell_type": "code",
   "execution_count": 3,
   "outputs": [],
   "source": [
    "# Preprocess the data\n",
    "X = df.iloc[:, 1:]\n",
    "y = df['Y']"
   ],
   "metadata": {
    "collapsed": false,
    "ExecuteTime": {
     "end_time": "2023-10-16T03:47:33.416059Z",
     "start_time": "2023-10-16T03:47:33.410074900Z"
    }
   }
  },
  {
   "cell_type": "code",
   "execution_count": 4,
   "outputs": [],
   "source": [
    "# Encode the target variable (0 for unhappy, 1 for happy)\n",
    "y = np.where(y == 0, 0, 1)"
   ],
   "metadata": {
    "collapsed": false,
    "ExecuteTime": {
     "end_time": "2023-10-16T03:47:50.336190700Z",
     "start_time": "2023-10-16T03:47:50.323182Z"
    }
   }
  },
  {
   "cell_type": "code",
   "execution_count": 5,
   "outputs": [],
   "source": [
    "# Standardise feature values\n",
    "scaler = StandardScaler()\n",
    "X = scaler.fit_transform(X)"
   ],
   "metadata": {
    "collapsed": false,
    "ExecuteTime": {
     "end_time": "2023-10-16T03:48:06.022512300Z",
     "start_time": "2023-10-16T03:48:06.010544800Z"
    }
   }
  },
  {
   "cell_type": "code",
   "execution_count": 6,
   "outputs": [],
   "source": [
    "# Split the data into training and validation sets\n",
    "X_train, X_val, y_train, y_val = train_test_split(X, y, test_size=0.1, random_state=42, stratify=y)"
   ],
   "metadata": {
    "collapsed": false,
    "ExecuteTime": {
     "end_time": "2023-10-16T03:48:14.272787900Z",
     "start_time": "2023-10-16T03:48:14.248851900Z"
    }
   }
  },
  {
   "cell_type": "code",
   "execution_count": 7,
   "outputs": [],
   "source": [
    "# Build the neural network model\n",
    "model = Sequential()\n",
    "model.add(Dense(64, input_dim=6, activation='sigmoid'))\n",
    "model.add(Dense(32, activation='sigmoid'))\n",
    "model.add(Dense(1, activation='sigmoid'))"
   ],
   "metadata": {
    "collapsed": false,
    "ExecuteTime": {
     "end_time": "2023-10-16T03:51:00.772281300Z",
     "start_time": "2023-10-16T03:51:00.693495600Z"
    }
   }
  },
  {
   "cell_type": "code",
   "execution_count": 8,
   "outputs": [],
   "source": [
    "# Compile the model\n",
    "model.compile(loss='binary_crossentropy', optimizer='adam', metrics=['accuracy'])"
   ],
   "metadata": {
    "collapsed": false,
    "ExecuteTime": {
     "end_time": "2023-10-16T03:51:18.932066200Z",
     "start_time": "2023-10-16T03:51:18.919101Z"
    }
   }
  },
  {
   "cell_type": "code",
   "execution_count": 9,
   "outputs": [
    {
     "name": "stdout",
     "output_type": "stream",
     "text": [
      "Epoch 1/50\n",
      "4/4 [==============================] - 1s 54ms/step - loss: 0.7021 - accuracy: 0.4071 - val_loss: 0.6856 - val_accuracy: 0.6154\n",
      "Epoch 2/50\n",
      "4/4 [==============================] - 0s 9ms/step - loss: 0.6899 - accuracy: 0.5310 - val_loss: 0.6791 - val_accuracy: 0.5385\n",
      "Epoch 3/50\n",
      "4/4 [==============================] - 0s 10ms/step - loss: 0.6848 - accuracy: 0.5575 - val_loss: 0.6782 - val_accuracy: 0.5385\n",
      "Epoch 4/50\n",
      "4/4 [==============================] - 0s 13ms/step - loss: 0.6834 - accuracy: 0.5487 - val_loss: 0.6785 - val_accuracy: 0.5385\n",
      "Epoch 5/50\n",
      "4/4 [==============================] - 0s 11ms/step - loss: 0.6848 - accuracy: 0.5487 - val_loss: 0.6781 - val_accuracy: 0.5385\n",
      "Epoch 6/50\n",
      "4/4 [==============================] - 0s 12ms/step - loss: 0.6844 - accuracy: 0.5487 - val_loss: 0.6754 - val_accuracy: 0.5385\n",
      "Epoch 7/50\n",
      "4/4 [==============================] - 0s 10ms/step - loss: 0.6833 - accuracy: 0.5487 - val_loss: 0.6715 - val_accuracy: 0.5385\n",
      "Epoch 8/50\n",
      "4/4 [==============================] - 0s 9ms/step - loss: 0.6807 - accuracy: 0.5487 - val_loss: 0.6687 - val_accuracy: 0.5385\n",
      "Epoch 9/50\n",
      "4/4 [==============================] - 0s 9ms/step - loss: 0.6790 - accuracy: 0.5487 - val_loss: 0.6661 - val_accuracy: 0.5385\n",
      "Epoch 10/50\n",
      "4/4 [==============================] - 0s 9ms/step - loss: 0.6804 - accuracy: 0.5664 - val_loss: 0.6624 - val_accuracy: 0.5385\n",
      "Epoch 11/50\n",
      "4/4 [==============================] - 0s 9ms/step - loss: 0.6773 - accuracy: 0.5841 - val_loss: 0.6610 - val_accuracy: 0.5385\n",
      "Epoch 12/50\n",
      "4/4 [==============================] - 0s 10ms/step - loss: 0.6757 - accuracy: 0.5841 - val_loss: 0.6584 - val_accuracy: 0.6154\n",
      "Epoch 13/50\n",
      "4/4 [==============================] - 0s 9ms/step - loss: 0.6765 - accuracy: 0.5575 - val_loss: 0.6555 - val_accuracy: 0.6154\n",
      "Epoch 14/50\n",
      "4/4 [==============================] - 0s 9ms/step - loss: 0.6738 - accuracy: 0.5575 - val_loss: 0.6542 - val_accuracy: 0.6154\n",
      "Epoch 15/50\n",
      "4/4 [==============================] - 0s 9ms/step - loss: 0.6729 - accuracy: 0.5664 - val_loss: 0.6526 - val_accuracy: 0.6154\n",
      "Epoch 16/50\n",
      "4/4 [==============================] - 0s 9ms/step - loss: 0.6725 - accuracy: 0.5664 - val_loss: 0.6505 - val_accuracy: 0.6154\n",
      "Epoch 17/50\n",
      "4/4 [==============================] - 0s 9ms/step - loss: 0.6716 - accuracy: 0.5575 - val_loss: 0.6491 - val_accuracy: 0.6154\n",
      "Epoch 18/50\n",
      "4/4 [==============================] - 0s 9ms/step - loss: 0.6708 - accuracy: 0.5575 - val_loss: 0.6471 - val_accuracy: 0.6154\n",
      "Epoch 19/50\n",
      "4/4 [==============================] - 0s 10ms/step - loss: 0.6696 - accuracy: 0.5575 - val_loss: 0.6445 - val_accuracy: 0.6154\n",
      "Epoch 20/50\n",
      "4/4 [==============================] - 0s 9ms/step - loss: 0.6690 - accuracy: 0.5752 - val_loss: 0.6420 - val_accuracy: 0.6154\n",
      "Epoch 21/50\n",
      "4/4 [==============================] - 0s 10ms/step - loss: 0.6678 - accuracy: 0.5841 - val_loss: 0.6393 - val_accuracy: 0.6154\n",
      "Epoch 22/50\n",
      "4/4 [==============================] - 0s 9ms/step - loss: 0.6685 - accuracy: 0.6018 - val_loss: 0.6365 - val_accuracy: 0.7692\n",
      "Epoch 23/50\n",
      "4/4 [==============================] - 0s 9ms/step - loss: 0.6668 - accuracy: 0.5752 - val_loss: 0.6347 - val_accuracy: 0.7692\n",
      "Epoch 24/50\n",
      "4/4 [==============================] - 0s 9ms/step - loss: 0.6654 - accuracy: 0.5841 - val_loss: 0.6337 - val_accuracy: 0.6154\n",
      "Epoch 25/50\n",
      "4/4 [==============================] - 0s 9ms/step - loss: 0.6647 - accuracy: 0.6018 - val_loss: 0.6331 - val_accuracy: 0.6154\n",
      "Epoch 26/50\n",
      "4/4 [==============================] - 0s 9ms/step - loss: 0.6645 - accuracy: 0.5929 - val_loss: 0.6326 - val_accuracy: 0.6154\n",
      "Epoch 27/50\n",
      "4/4 [==============================] - 0s 9ms/step - loss: 0.6642 - accuracy: 0.5929 - val_loss: 0.6312 - val_accuracy: 0.6154\n",
      "Epoch 28/50\n",
      "4/4 [==============================] - 0s 9ms/step - loss: 0.6639 - accuracy: 0.5929 - val_loss: 0.6286 - val_accuracy: 0.6154\n",
      "Epoch 29/50\n",
      "4/4 [==============================] - 0s 9ms/step - loss: 0.6629 - accuracy: 0.5929 - val_loss: 0.6245 - val_accuracy: 0.7692\n",
      "Epoch 30/50\n",
      "4/4 [==============================] - 0s 9ms/step - loss: 0.6617 - accuracy: 0.5841 - val_loss: 0.6219 - val_accuracy: 0.7692\n",
      "Epoch 31/50\n",
      "4/4 [==============================] - 0s 9ms/step - loss: 0.6614 - accuracy: 0.5575 - val_loss: 0.6193 - val_accuracy: 0.7692\n",
      "Epoch 32/50\n",
      "4/4 [==============================] - 0s 9ms/step - loss: 0.6612 - accuracy: 0.5575 - val_loss: 0.6180 - val_accuracy: 0.7692\n",
      "Epoch 33/50\n",
      "4/4 [==============================] - 0s 9ms/step - loss: 0.6602 - accuracy: 0.5575 - val_loss: 0.6170 - val_accuracy: 0.7692\n",
      "Epoch 34/50\n",
      "4/4 [==============================] - 0s 9ms/step - loss: 0.6595 - accuracy: 0.5575 - val_loss: 0.6160 - val_accuracy: 0.7692\n",
      "Epoch 35/50\n",
      "4/4 [==============================] - 0s 9ms/step - loss: 0.6594 - accuracy: 0.5575 - val_loss: 0.6149 - val_accuracy: 0.7692\n",
      "Epoch 36/50\n",
      "4/4 [==============================] - 0s 9ms/step - loss: 0.6587 - accuracy: 0.5752 - val_loss: 0.6137 - val_accuracy: 0.7692\n",
      "Epoch 37/50\n",
      "4/4 [==============================] - 0s 11ms/step - loss: 0.6591 - accuracy: 0.5752 - val_loss: 0.6124 - val_accuracy: 0.7692\n",
      "Epoch 38/50\n",
      "4/4 [==============================] - 0s 8ms/step - loss: 0.6577 - accuracy: 0.5664 - val_loss: 0.6089 - val_accuracy: 0.7692\n",
      "Epoch 39/50\n",
      "4/4 [==============================] - 0s 9ms/step - loss: 0.6578 - accuracy: 0.5752 - val_loss: 0.6060 - val_accuracy: 0.7692\n",
      "Epoch 40/50\n",
      "4/4 [==============================] - 0s 9ms/step - loss: 0.6576 - accuracy: 0.5664 - val_loss: 0.6049 - val_accuracy: 0.7692\n",
      "Epoch 41/50\n",
      "4/4 [==============================] - 0s 9ms/step - loss: 0.6566 - accuracy: 0.5664 - val_loss: 0.6028 - val_accuracy: 0.7692\n",
      "Epoch 42/50\n",
      "4/4 [==============================] - 0s 9ms/step - loss: 0.6566 - accuracy: 0.5664 - val_loss: 0.6022 - val_accuracy: 0.7692\n",
      "Epoch 43/50\n",
      "4/4 [==============================] - 0s 10ms/step - loss: 0.6559 - accuracy: 0.5664 - val_loss: 0.6007 - val_accuracy: 0.7692\n",
      "Epoch 44/50\n",
      "4/4 [==============================] - 0s 9ms/step - loss: 0.6555 - accuracy: 0.5664 - val_loss: 0.6004 - val_accuracy: 0.7692\n",
      "Epoch 45/50\n",
      "4/4 [==============================] - 0s 11ms/step - loss: 0.6550 - accuracy: 0.5752 - val_loss: 0.5993 - val_accuracy: 0.7692\n",
      "Epoch 46/50\n",
      "4/4 [==============================] - 0s 9ms/step - loss: 0.6566 - accuracy: 0.5752 - val_loss: 0.5963 - val_accuracy: 0.7692\n",
      "Epoch 47/50\n",
      "4/4 [==============================] - 0s 9ms/step - loss: 0.6542 - accuracy: 0.5752 - val_loss: 0.5976 - val_accuracy: 0.7692\n",
      "Epoch 48/50\n",
      "4/4 [==============================] - 0s 10ms/step - loss: 0.6540 - accuracy: 0.5575 - val_loss: 0.5978 - val_accuracy: 0.7692\n",
      "Epoch 49/50\n",
      "4/4 [==============================] - 0s 10ms/step - loss: 0.6545 - accuracy: 0.5575 - val_loss: 0.5968 - val_accuracy: 0.7692\n",
      "Epoch 50/50\n",
      "4/4 [==============================] - 0s 9ms/step - loss: 0.6540 - accuracy: 0.5575 - val_loss: 0.5945 - val_accuracy: 0.7692\n"
     ]
    },
    {
     "data": {
      "text/plain": "<keras.src.callbacks.History at 0x15af6508940>"
     },
     "execution_count": 9,
     "metadata": {},
     "output_type": "execute_result"
    }
   ],
   "source": [
    "# Train the model\n",
    "model.fit(X_train, y_train, epochs=50, batch_size=32, validation_data=(X_val, y_val))"
   ],
   "metadata": {
    "collapsed": false,
    "ExecuteTime": {
     "end_time": "2023-10-16T03:51:30.663114200Z",
     "start_time": "2023-10-16T03:51:28.133112Z"
    }
   }
  },
  {
   "cell_type": "code",
   "execution_count": 10,
   "outputs": [
    {
     "name": "stdout",
     "output_type": "stream",
     "text": [
      "1/1 [==============================] - 0s 21ms/step - loss: 0.5945 - accuracy: 0.7692\n",
      "Validation Loss: 0.5945, Validation Accuracy: 0.7692\n"
     ]
    }
   ],
   "source": [
    "# Evaluate the model on the validation set\n",
    "loss, accuracy = model.evaluate(X_val, y_val)\n",
    "print(f'Validation Loss: {loss:.4f}, Validation Accuracy: {accuracy:.4f}')"
   ],
   "metadata": {
    "collapsed": false,
    "ExecuteTime": {
     "end_time": "2023-10-16T03:51:44.347231200Z",
     "start_time": "2023-10-16T03:51:44.286128100Z"
    }
   }
  }
 ],
 "metadata": {
  "kernelspec": {
   "display_name": "Python 3",
   "language": "python",
   "name": "python3"
  },
  "language_info": {
   "codemirror_mode": {
    "name": "ipython",
    "version": 2
   },
   "file_extension": ".py",
   "mimetype": "text/x-python",
   "name": "python",
   "nbconvert_exporter": "python",
   "pygments_lexer": "ipython2",
   "version": "2.7.6"
  }
 },
 "nbformat": 4,
 "nbformat_minor": 0
}
